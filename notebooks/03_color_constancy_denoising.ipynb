{
 "cells": [
  {
   "cell_type": "markdown",
   "metadata": {},
   "source": [
    "# Color Constancy and Denoising\n",
    "\n",
    "In this notebook, we will implement preprocessing techniques such as color constancy and denoising to improve the quality of images from the HAM10000 dataset."
   ]
  },
  {
   "cell_type": "code",
   "execution_count": null,
   "metadata": {
    "id": "color-constancy-imports"
   },
   "outputs": [
    {
     "ename": "ImportError",
     "evalue": "cannot import name 'apply_denoising' from 'src.preprocessing.denoising' (C:\\Users\\Asus\\deeplearning-ham10000-workshop\\src\\preprocessing\\denoising.py)",
     "output_type": "error",
     "traceback": [
      "\u001b[1;31m---------------------------------------------------------------------------\u001b[0m",
      "\u001b[1;31mImportError\u001b[0m                               Traceback (most recent call last)",
      "Cell \u001b[1;32mIn[4], line 11\u001b[0m\n\u001b[0;32m      9\u001b[0m sys\u001b[38;5;241m.\u001b[39mpath\u001b[38;5;241m.\u001b[39mappend(\u001b[38;5;124mr\u001b[39m\u001b[38;5;124m\"\u001b[39m\u001b[38;5;124mC:\u001b[39m\u001b[38;5;124m\\\u001b[39m\u001b[38;5;124mUsers\u001b[39m\u001b[38;5;124m\\\u001b[39m\u001b[38;5;124mAsus\u001b[39m\u001b[38;5;124m\\\u001b[39m\u001b[38;5;124mdeeplearning-ham10000-workshop\u001b[39m\u001b[38;5;124m\"\u001b[39m)\n\u001b[0;32m     10\u001b[0m \u001b[38;5;28;01mfrom\u001b[39;00m\u001b[38;5;250m \u001b[39m\u001b[38;5;21;01msrc\u001b[39;00m\u001b[38;5;21;01m.\u001b[39;00m\u001b[38;5;21;01mpreprocessing\u001b[39;00m\u001b[38;5;21;01m.\u001b[39;00m\u001b[38;5;21;01mcolor_constancy\u001b[39;00m\u001b[38;5;250m \u001b[39m\u001b[38;5;28;01mimport\u001b[39;00m apply_color_constancy\n\u001b[1;32m---> 11\u001b[0m \u001b[38;5;28;01mfrom\u001b[39;00m\u001b[38;5;250m \u001b[39m\u001b[38;5;21;01msrc\u001b[39;00m\u001b[38;5;21;01m.\u001b[39;00m\u001b[38;5;21;01mpreprocessing\u001b[39;00m\u001b[38;5;21;01m.\u001b[39;00m\u001b[38;5;21;01mdenoising\u001b[39;00m\u001b[38;5;250m \u001b[39m\u001b[38;5;28;01mimport\u001b[39;00m apply_denoising\n\u001b[0;32m     15\u001b[0m \u001b[38;5;66;03m# Set the path to the images\u001b[39;00m\n\u001b[0;32m     16\u001b[0m image_dir \u001b[38;5;241m=\u001b[39m \u001b[38;5;124m'\u001b[39m\u001b[38;5;124m../data/images/\u001b[39m\u001b[38;5;124m'\u001b[39m\n",
      "\u001b[1;31mImportError\u001b[0m: cannot import name 'apply_denoising' from 'src.preprocessing.denoising' (C:\\Users\\Asus\\deeplearning-ham10000-workshop\\src\\preprocessing\\denoising.py)"
     ]
    }
   ],
   "source": [
    "# Import necessary libraries\n",
    "import os\n",
    "import pandas as pd\n",
    "import numpy as np\n",
    "import cv2\n",
    "import matplotlib.pyplot as plt\n",
    "import sys\n",
    "\n",
    "sys.path.append(r\"C:\\Users\\Asus\\deeplearning-ham10000-workshop\")\n",
    "from src.preprocessing.color_constancy import apply_color_constancy\n",
    "from src.preprocessing.denoising import apply_denoising\n",
    "\n",
    "\n",
    "\n",
    "# Set the path to the images\n",
    "image_dir = '../data/images/'\n",
    "mask_dir = '../data/masks/'\n",
    "ground_truth_path = '../data/GroundTruth.csv'\n",
    "\n",
    "# Load the ground truth data\n",
    "ground_truth = pd.read_csv(ground_truth_path)\n",
    "ground_truth.head()"
   ]
  },
  {
   "cell_type": "code",
   "execution_count": null,
   "metadata": {
    "id": "load-images"
   },
   "outputs": [],
   "source": [
    "# Load and preprocess images\n",
    "def load_and_preprocess_images(image_dir):\n",
    "    images = []\n",
    "    for filename in os.listdir(image_dir):\n",
    "        if filename.endswith('.jpg') or filename.endswith('.png'):\n",
    "            img_path = os.path.join(image_dir, filename)\n",
    "            img = cv2.imread(img_path)\n",
    "            img = cv2.cvtColor(img, cv2.COLOR_BGR2RGB)\n",
    "            images.append(img)\n",
    "    return images\n",
    "\n",
    "images = load_and_preprocess_images(image_dir)\n",
    "print(f'Loaded {len(images)} images.')"
   ]
  },
  {
   "cell_type": "code",
   "execution_count": null,
   "metadata": {
    "id": "apply-color-constancy"
   },
   "outputs": [],
   "source": [
    "# Apply color constancy\n",
    "color_constancy_images = [apply_color_constancy(img) for img in images]\n",
    "print('Applied color constancy to images.')"
   ]
  },
  {
   "cell_type": "code",
   "execution_count": null,
   "metadata": {
    "id": "apply-denoising"
   },
   "outputs": [],
   "source": [
    "# Apply denoising\n",
    "denoised_images = [apply_denoising(img) for img in color_constancy_images]\n",
    "print('Applied denoising to images.')"
   ]
  },
  {
   "cell_type": "code",
   "execution_count": null,
   "metadata": {
    "id": "visualize-results"
   },
   "outputs": [],
   "source": [
    "# Visualize the results\n",
    "def visualize_images(original, processed, n=5):\n",
    "    plt.figure(figsize=(15, 5))\n",
    "    for i in range(n):\n",
    "        plt.subplot(2, n, i + 1)\n",
    "        plt.imshow(original[i])\n",
    "        plt.title('Original')\n",
    "        plt.axis('off')\n",
    "        plt.subplot(2, n, i + 1 + n)\n",
    "        plt.imshow(processed[i])\n",
    "        plt.title('Processed')\n",
    "        plt.axis('off')\n",
    "    plt.show()\n",
    "\n",
    "visualize_images(images, denoised_images)"
   ]
  }
 ],
 "metadata": {
  "kernelspec": {
   "display_name": ".venv",
   "language": "python",
   "name": "python3"
  },
  "language_info": {
   "codemirror_mode": {
    "name": "ipython",
    "version": 3
   },
   "file_extension": ".py",
   "mimetype": "text/x-python",
   "name": "python",
   "nbconvert_exporter": "python",
   "pygments_lexer": "ipython3",
   "version": "3.10.3"
  }
 },
 "nbformat": 4,
 "nbformat_minor": 4
}

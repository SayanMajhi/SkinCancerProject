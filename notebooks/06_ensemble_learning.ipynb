{
 "cells": [
  {
   "cell_type": "markdown",
   "metadata": {},
   "source": [
    "# Ensemble Learning for Skin Cancer Classification\n",
    "\n",
    "In this notebook, we will implement ensemble learning techniques to combine predictions from multiple models for final classification of skin cancer using the HAM10000 dataset."
   ]
  },
  {
   "cell_type": "code",
   "execution_count": null,
   "metadata": {},
   "outputs": [],
   "source": [
    "import pandas as pd\n",
    "import numpy as np\n",
    "import matplotlib.pyplot as plt\n",
    "from sklearn.metrics import classification_report, confusion_matrix\n",
    "from sklearn.ensemble import VotingClassifier\n",
    "from sklearn.model_selection import train_test_split\n",
    "\n",
    "# Import models\n",
    "from src.models.resnet50 import ResNet50Model\n",
    "from src.models.efficientnet import EfficientNetModel\n",
    "from src.models.cnn_self_attention import CNNSelfAttentionModel\n",
    "\n",
    "# Load the dataset\n",
    "data = pd.read_csv('data/GroundTruth.csv')\n",
    "X = data['image'].values  # Assuming images are loaded as arrays\n",
    "y = data[['MEL', 'NV', 'BCC', 'AKIEC', 'BKL', 'DF', 'VASC']].values\n",
    "\n",
    "# Split the dataset into training and testing sets\n",
    "X_train, X_test, y_train, y_test = train_test_split(X, y, test_size=0.2, random_state=42)\n",
    "\n",
    "# Initialize models\n",
    "model1 = ResNet50Model()\n",
    "model2 = EfficientNetModel()\n",
    "model3 = CNNSelfAttentionModel()\n",
    "\n",
    "# Create an ensemble model using VotingClassifier\n",
    "ensemble_model = VotingClassifier(estimators=[('resnet', model1), ('efficientnet', model2), ('cnn', model3)], voting='soft')\n",
    "\n",
    "# Train the ensemble model\n",
    "ensemble_model.fit(X_train, y_train)\n",
    "\n",
    "# Make predictions\n",
    "y_pred = ensemble_model.predict(X_test)\n",
    "\n",
    "# Evaluate the model\n",
    "print(classification_report(y_test, y_pred))\n",
    "cm = confusion_matrix(y_test.argmax(axis=1), y_pred.argmax(axis=1))\n",
    "plt.figure(figsize=(10,7))\n",
    "plt.title('Confusion Matrix')\n",
    "sns.heatmap(cm, annot=True, fmt='d')\n",
    "plt.xlabel('Predicted')\n",
    "plt.ylabel('True')\n",
    "plt.show()"
   ]
  },
  {
   "cell_type": "markdown",
   "metadata": {},
   "source": [
    "## Conclusion\n",
    "\n",
    "In this notebook, we implemented ensemble learning techniques to combine predictions from multiple models. The ensemble model can potentially improve classification performance by leveraging the strengths of different architectures."
   ]
  }
 ],
 "metadata": {
  "kernelspec": {
   "display_name": "Python 3",
   "language": "python",
   "name": "python3"
  },
  "language_info": {
   "codemirror_mode": {
    "name": "ipython",
    "version": 3
   },
   "file_extension": ".py",
   "mimetype": "text/x-python",
   "name": "python",
   "nbconvert_exporter": "python",
   "pygments_lexer": "ipython3",
   "version": "3.8.5"
  }
 },
 "nbformat": 4,
 "nbformat_minor": 4
}